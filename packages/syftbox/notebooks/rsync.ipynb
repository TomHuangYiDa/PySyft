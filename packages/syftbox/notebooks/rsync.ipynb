{
 "cells": [
  {
   "cell_type": "code",
   "execution_count": null,
   "id": "0",
   "metadata": {},
   "outputs": [],
   "source": [
    "import hashlib\n",
    "import sys\n",
    "from pathlib import Path\n",
    "\n",
    "import py_fast_rsync\n",
    "from faker import Faker\n",
    "\n",
    "fake = Faker()"
   ]
  },
  {
   "cell_type": "code",
   "execution_count": null,
   "id": "1",
   "metadata": {},
   "outputs": [],
   "source": [
    "data_folder = Path(\"./data\")\n",
    "data_folder.mkdir(exist_ok=True)"
   ]
  },
  {
   "cell_type": "code",
   "execution_count": null,
   "id": "2",
   "metadata": {},
   "outputs": [],
   "source": [
    "def create_txt(size_in_kb):\n",
    "    content = \"\"\n",
    "    while len(content.encode(\"utf-8\")) < size_in_kb * 1024:\n",
    "        content += fake.text() + \"\\n\"\n",
    "    return content\n",
    "\n",
    "\n",
    "for size in [1, 10, 100, 1000]:\n",
    "    file_content = create_txt(size)\n",
    "    file_path = data_folder / f\"{size}KB.txt\"\n",
    "    file_path.write_text(file_content)"
   ]
  },
  {
   "cell_type": "code",
   "execution_count": null,
   "id": "3",
   "metadata": {},
   "outputs": [],
   "source": [
    "from py_fast_rsync import signature"
   ]
  },
  {
   "cell_type": "code",
   "execution_count": null,
   "id": "4",
   "metadata": {},
   "outputs": [],
   "source": [
    "with open(\"./data/1000KB.txt\", \"rb\") as f:\n",
    "    data_server = f.read()\n",
    "\n",
    "data_local = data_server[:-100]\n",
    "\n",
    "# data_server has 100 more characters\n",
    "len(data_server), len(data_local)"
   ]
  },
  {
   "cell_type": "code",
   "execution_count": null,
   "id": "5",
   "metadata": {},
   "outputs": [],
   "source": [
    "# Scenario 1: client pulls changes from server\n",
    "\n",
    "# 1. client sends signature to server\n",
    "# POST /rsync/get_diff {path: str, signature: blob}\n",
    "sig_local = signature.calculate(data_local)\n",
    "print(f\"sending {sys.getsizeof(sig_local)} bytes to server\")\n",
    "\n",
    "# 2. server calculates diff and hash for verification\n",
    "diff = py_fast_rsync.diff(sig_local, data_server)\n",
    "hash_server = hashlib.sha256(data_server).digest()\n",
    "\n",
    "# 3. server returns diff to client\n",
    "print(f\"sending {sys.getsizeof(diff)} + {sys.getsizeof(hash_server)} bytes to client\")\n",
    "\n",
    "# 4. client applies diff\n",
    "result = py_fast_rsync.apply(data_local, diff)\n",
    "\n",
    "# 5. client verifies the result\n",
    "hash_result = hashlib.sha256(result).digest()\n",
    "assert hash_result == hash_server\n",
    "assert data_server == result\n",
    "\n",
    "# Calculate bytes saved\n",
    "bytes_saved = sys.getsizeof(data_server) - sys.getsizeof(diff) - sys.getsizeof(hash_server)\n",
    "print(\"bytes saved\", bytes_saved)"
   ]
  },
  {
   "cell_type": "code",
   "execution_count": null,
   "id": "6",
   "metadata": {},
   "outputs": [],
   "source": [
    "# Scenario 2: client pushes changes to server\n",
    "\n",
    "# 1. client requests signature from server\n",
    "# GET /rsync/get_signature?path={path}\n",
    "sig_server = signature.calculate(data_server)\n",
    "print(f\"sending {sys.getsizeof(sig_server)} bytes to client\")\n",
    "\n",
    "# 2. client calculates diff and hash for verification\n",
    "diff = py_fast_rsync.diff(sig_server, data_local)\n",
    "hash_local = hashlib.sha256(data_local).digest()\n",
    "\n",
    "# 3. client sends diff to server\n",
    "# POST /rsync/apply_diff\n",
    "print(f\"sending {sys.getsizeof(diff)} + {sys.getsizeof(hash_local)} bytes to server\")\n",
    "\n",
    "# 4. server applies diff\n",
    "result = py_fast_rsync.apply(data_server, diff)\n",
    "\n",
    "# 5. server verifies the result\n",
    "hash_result = hashlib.sha256(result).digest()\n",
    "assert hash_result == hash_local\n",
    "assert data_local == result\n",
    "\n",
    "# Calculate bytes saved\n",
    "bytes_saved = sys.getsizeof(data_server) - sys.getsizeof(diff) - sys.getsizeof(hash_local)\n",
    "print(\"bytes saved\", bytes_saved)"
   ]
  }
 ],
 "metadata": {
  "kernelspec": {
   "display_name": "Python 3 (ipykernel)",
   "language": "python",
   "name": "python3"
  },
  "language_info": {
   "codemirror_mode": {
    "name": "ipython",
    "version": 3
   },
   "file_extension": ".py",
   "mimetype": "text/x-python",
   "name": "python",
   "nbconvert_exporter": "python",
   "pygments_lexer": "ipython3",
   "version": "3.12.6"
  }
 },
 "nbformat": 4,
 "nbformat_minor": 5
}

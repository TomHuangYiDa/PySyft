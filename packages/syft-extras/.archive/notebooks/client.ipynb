{
 "cells": [
  {
   "cell_type": "code",
   "execution_count": null,
   "id": "0",
   "metadata": {},
   "outputs": [],
   "source": [
    "# !uv pip install -e ../../syft-rpc\n",
    "# !uv pip install -e ../../syft-event"
   ]
  },
  {
   "cell_type": "code",
   "execution_count": 3,
   "id": "1",
   "metadata": {},
   "outputs": [],
   "source": [
    "# from utils import User"
   ]
  },
  {
   "cell_type": "code",
   "execution_count": 13,
   "id": "cecb0268-92f6-4a79-bd1d-b03cab798642",
   "metadata": {},
   "outputs": [],
   "source": [
    "from syftbox.lib import Client"
   ]
  },
  {
   "cell_type": "code",
   "execution_count": 24,
   "id": "2",
   "metadata": {},
   "outputs": [],
   "source": [
    "from syft_rpc import Request, JSONModel, SyftBoxURL"
   ]
  },
  {
   "cell_type": "code",
   "execution_count": 38,
   "id": "211a10e4-3660-4c88-a362-13fd670a94ad",
   "metadata": {},
   "outputs": [],
   "source": [
    "url = SyftBoxURL(\"syft://a@openmined.org/public/rpc/fedreduce/listen\")"
   ]
  },
  {
   "cell_type": "code",
   "execution_count": 43,
   "id": "9e6036ec-8547-48ef-b415-30b54bfe1226",
   "metadata": {},
   "outputs": [
    {
     "data": {
      "text/plain": [
       "'a@openmined.org/public/rpc/fedreduce/listen'"
      ]
     },
     "execution_count": 43,
     "metadata": {},
     "output_type": "execute_result"
    }
   ],
   "source": [
    "url.host + url.path"
   ]
  },
  {
   "cell_type": "code",
   "execution_count": 27,
   "id": "3",
   "metadata": {},
   "outputs": [],
   "source": [
    "class User(JSONModel):\n",
    "    id: int\n",
    "    name: str\n",
    "\n",
    "\n",
    "class LoginResponse(JSONModel):\n",
    "    username: str\n",
    "    token: int = 123"
   ]
  },
  {
   "cell_type": "code",
   "execution_count": null,
   "id": "4",
   "metadata": {},
   "outputs": [],
   "source": []
  },
  {
   "cell_type": "code",
   "execution_count": 28,
   "id": "5",
   "metadata": {},
   "outputs": [],
   "source": [
    "user = User(id=1, name=\"Alice\")"
   ]
  },
  {
   "cell_type": "code",
   "execution_count": 29,
   "id": "ae9bdb15-bc01-43da-8961-5a5ce5a7ce53",
   "metadata": {},
   "outputs": [],
   "source": [
    "# export SYFTBOX_CLIENT_CONFIG_PATH=/Users/madhavajay/dev/syft/.clients/a@openmined.org/config.json"
   ]
  },
  {
   "cell_type": "code",
   "execution_count": 30,
   "id": "6",
   "metadata": {},
   "outputs": [],
   "source": [
    "client = Client.load(filepath=\"/Users/madhavajay/dev/syft/.clients/a@openmined.org/config.json\")\n",
    "request = Request(client=client)"
   ]
  },
  {
   "cell_type": "code",
   "execution_count": 35,
   "id": "7",
   "metadata": {},
   "outputs": [],
   "source": [
    "# api = request.make_api(\"syft://madhava@openmined.org/public/rpc/test/rpc.service.yaml\")"
   ]
  },
  {
   "cell_type": "code",
   "execution_count": 47,
   "id": "79feeacc-8460-49b9-a6f2-63718a592913",
   "metadata": {},
   "outputs": [],
   "source": [
    "yaml_path = \"/Users/madhavajay/dev/syft/.clients/a@openmined.org/datasites/a@openmined.org/public/a.yaml\""
   ]
  },
  {
   "cell_type": "code",
   "execution_count": 49,
   "id": "1048b38c-66e5-429b-a1b2-ed406ef9cacb",
   "metadata": {},
   "outputs": [],
   "source": [
    "# !touch yaml_path"
   ]
  },
  {
   "cell_type": "code",
   "execution_count": null,
   "id": "be76bcb2-e20e-41b2-ae2f-032c7cea5672",
   "metadata": {},
   "outputs": [],
   "source": []
  },
  {
   "cell_type": "code",
   "execution_count": 50,
   "id": "8",
   "metadata": {},
   "outputs": [
    {
     "data": {
      "text/plain": [
       "Future(local_path=PosixPath('/Users/madhavajay/dev/syft/.clients/a@openmined.org/datasites/a@openmined.org/public/rpc/fedreduce/listen/01JEQKJH9TH3ZDMHFQQ55061YV.response'), value=None)"
      ]
     },
     "execution_count": 50,
     "metadata": {},
     "output_type": "execute_result"
    }
   ],
   "source": [
    "headers = {}\n",
    "headers[\"content-type\"] = \"application/json\"\n",
    "headers[\"x-syft-rpc-object-type\"] = type(user).__name__\n",
    "response = request.get(\n",
    "    \"syft://a@openmined.org/public/rpc/fedreduce/listen\",\n",
    "    body=user.dump(),\n",
    "    headers=headers,\n",
    ")\n",
    "response"
   ]
  },
  {
   "cell_type": "code",
   "execution_count": 46,
   "id": "9",
   "metadata": {},
   "outputs": [
    {
     "ename": "TimeoutError",
     "evalue": "Timeout reached waiting 5 for response",
     "output_type": "error",
     "traceback": [
      "\u001b[0;31m---------------------------------------------------------------------------\u001b[0m",
      "\u001b[0;31mTimeoutError\u001b[0m                              Traceback (most recent call last)",
      "Cell \u001b[0;32mIn[46], line 1\u001b[0m\n\u001b[0;32m----> 1\u001b[0m result \u001b[38;5;241m=\u001b[39m \u001b[43mresponse\u001b[49m\u001b[38;5;241;43m.\u001b[39;49m\u001b[43mwait\u001b[49m\u001b[43m(\u001b[49m\u001b[43m)\u001b[49m\n",
      "File \u001b[0;32m~/dev/syftbox-experimental/.venv/lib/python3.12/site-packages/syft_rpc/rpc.py:220\u001b[0m, in \u001b[0;36mFuture.wait\u001b[0;34m(self, timeout)\u001b[0m\n\u001b[1;32m    218\u001b[0m         \u001b[38;5;28;01mreturn\u001b[39;00m \u001b[38;5;28mself\u001b[39m\u001b[38;5;241m.\u001b[39mvalue\n\u001b[1;32m    219\u001b[0m     time\u001b[38;5;241m.\u001b[39msleep(\u001b[38;5;241m0.1\u001b[39m)\n\u001b[0;32m--> 220\u001b[0m \u001b[38;5;28;01mraise\u001b[39;00m \u001b[38;5;167;01mTimeoutError\u001b[39;00m(\u001b[38;5;124mf\u001b[39m\u001b[38;5;124m\"\u001b[39m\u001b[38;5;124mTimeout reached waiting \u001b[39m\u001b[38;5;132;01m{\u001b[39;00mtimeout\u001b[38;5;132;01m}\u001b[39;00m\u001b[38;5;124m for response\u001b[39m\u001b[38;5;124m\"\u001b[39m)\n",
      "\u001b[0;31mTimeoutError\u001b[0m: Timeout reached waiting 5 for response"
     ]
    }
   ],
   "source": [
    "result = response.wait()"
   ]
  },
  {
   "cell_type": "code",
   "execution_count": null,
   "id": "10",
   "metadata": {},
   "outputs": [],
   "source": [
    "result"
   ]
  },
  {
   "cell_type": "code",
   "execution_count": null,
   "id": "11",
   "metadata": {},
   "outputs": [],
   "source": [
    "msg = response.value"
   ]
  },
  {
   "cell_type": "code",
   "execution_count": null,
   "id": "12",
   "metadata": {},
   "outputs": [],
   "source": [
    "msg.body"
   ]
  },
  {
   "cell_type": "code",
   "execution_count": null,
   "id": "13",
   "metadata": {},
   "outputs": [],
   "source": [
    "msg.body"
   ]
  },
  {
   "cell_type": "code",
   "execution_count": null,
   "id": "14",
   "metadata": {},
   "outputs": [],
   "source": [
    "LoginResponse()"
   ]
  },
  {
   "cell_type": "code",
   "execution_count": null,
   "id": "15",
   "metadata": {},
   "outputs": [],
   "source": []
  }
 ],
 "metadata": {
  "kernelspec": {
   "display_name": "Python 3 (ipykernel)",
   "language": "python",
   "name": "python3"
  },
  "language_info": {
   "codemirror_mode": {
    "name": "ipython",
    "version": 3
   },
   "file_extension": ".py",
   "mimetype": "text/x-python",
   "name": "python",
   "nbconvert_exporter": "python",
   "pygments_lexer": "ipython3",
   "version": "3.12.7"
  }
 },
 "nbformat": 4,
 "nbformat_minor": 5
}
